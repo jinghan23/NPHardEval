{
 "cells": [
  {
   "cell_type": "code",
   "execution_count": 4,
   "metadata": {},
   "outputs": [
    {
     "name": "stdout",
     "output_type": "stream",
     "text": [
      "8\n",
      "claude-instant-1.2_sppResults.json done\n",
      "gpt-3.5-turbo_sppResults.json done\n",
      "claude-2_sppResults.json done\n",
      "chat-bison@001_sppResults.json done\n",
      "gpt-4-1106-preview_sppResults.json done\n"
     ]
    }
   ],
   "source": [
    "import os\n",
    "import json\n",
    "\n",
    "# change nam twice\n",
    "problem_name = 'spp'\n",
    "problem_file = problem_name + '_instances.json'\n",
    "\n",
    "problem_info = {}\n",
    "with open(problem_file) as f:\n",
    "    problem_info = json.loads(f.read())\n",
    "\n",
    "print(len(problem_info))\n",
    "\n",
    "replace_pos = []\n",
    "for info in problem_info:\n",
    "    place = (info['complexity_level'] - 3) * 10 + info['replace_pos']\n",
    "    replace_pos.append(place)\n",
    "\n",
    "problem_info = {}\n",
    "model_performance = []\n",
    "NEW_DIR = 'Results/new'\n",
    "RESULT_DIR = 'Results'\n",
    "for file in os.listdir(NEW_DIR):\n",
    "    if file.endswith('.json'):\n",
    "        model = file.split('_')[0]\n",
    "        problem = file.split('_')\n",
    "        problem = \"_\".join(problem[1:])\n",
    "        problem = problem.split('.')[0]\n",
    "        if problem_name in problem:           \n",
    "            new_data = []\n",
    "            with open(NEW_DIR + '/' + file) as f:\n",
    "                correct = []\n",
    "                new_data = json.loads(f.readlines()[-1])\n",
    "            assert len(new_data) == len(replace_pos), f'{file} length not match'\n",
    "            old_data = []\n",
    "            with open(RESULT_DIR + '/' + file) as f:\n",
    "                old_data = json.loads(f.readlines()[-1])\n",
    "            for pos, x in zip(replace_pos, new_data):\n",
    "                old_data[pos] = x\n",
    "            os.rename(RESULT_DIR + '/' + file, RESULT_DIR + '/' + file + '.old')\n",
    "            with open(RESULT_DIR + '/' + file, 'w') as f:\n",
    "                f.write(json.dumps(old_data))\n",
    "            print(file, 'done')"
   ]
  },
  {
   "cell_type": "code",
   "execution_count": 6,
   "metadata": {},
   "outputs": [
    {
     "name": "stdout",
     "output_type": "stream",
     "text": [
      "mistral_edpResults.json\n",
      "vicuna_edpResults.json\n",
      "yi_edpResults.json\n",
      "phi_edpResults.json\n",
      "mpt_edpResults.json\n"
     ]
    }
   ],
   "source": [
    "for file in os.listdir(RESULT_DIR):\n",
    "    if 'edp' in file:\n",
    "        print(file)"
   ]
  },
  {
   "cell_type": "code",
   "execution_count": 7,
   "metadata": {},
   "outputs": [],
   "source": [
    "for file in os.listdir(RESULT_DIR):\n",
    "    if file.endswith(\".old\"):\n",
    "        os.remove(RESULT_DIR + '/' + file)"
   ]
  },
  {
   "cell_type": "code",
   "execution_count": null,
   "metadata": {},
   "outputs": [],
   "source": []
  }
 ],
 "metadata": {
  "kernelspec": {
   "display_name": "llm_reason",
   "language": "python",
   "name": "python3"
  },
  "language_info": {
   "codemirror_mode": {
    "name": "ipython",
    "version": 3
   },
   "file_extension": ".py",
   "mimetype": "text/x-python",
   "name": "python",
   "nbconvert_exporter": "python",
   "pygments_lexer": "ipython3",
   "version": "3.10.13"
  }
 },
 "nbformat": 4,
 "nbformat_minor": 2
}
