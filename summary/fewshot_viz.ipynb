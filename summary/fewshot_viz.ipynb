{
 "cells": [
  {
   "cell_type": "code",
   "execution_count": 13,
   "metadata": {},
   "outputs": [],
   "source": [
    "import pandas as pd\n",
    "\n",
    "zero_shot_df = pd.read_csv('results.csv')\n",
    "few_shot_df = pd.read_csv('result_fewshot.csv')"
   ]
  },
  {
   "cell_type": "code",
   "execution_count": 22,
   "metadata": {},
   "outputs": [],
   "source": [
    "\n",
    "study_problem = ['bspResults', 'mfpResults']\n",
    "a = zero_shot_df[zero_shot_df.problem.isin(study_problem)].groupby(['model', 'problem'], as_index=False).agg({'weighted_accuracy': 'sum', 'weighted_failed': 'sum'})"
   ]
  },
  {
   "cell_type": "code",
   "execution_count": 21,
   "metadata": {},
   "outputs": [],
   "source": [
    "b = few_shot_df.groupby(['model', 'problem', 'difference'], as_index=False).agg({'weighted_accuracy': 'sum', 'weighted_failed': 'sum'})"
   ]
  },
  {
   "cell_type": "code",
   "execution_count": 54,
   "metadata": {},
   "outputs": [
    {
     "name": "stderr",
     "output_type": "stream",
     "text": [
      "/var/folders/y6/w43qd_4x787440vysqh0ss280000gn/T/ipykernel_11986/1615406108.py:13: FutureWarning: DataFrame.applymap has been deprecated. Use DataFrame.map instead.\n",
      "  all = all.applymap(lambda x: f'{x:.3f}')\n",
      "/var/folders/y6/w43qd_4x787440vysqh0ss280000gn/T/ipykernel_11986/1615406108.py:13: FutureWarning: DataFrame.applymap has been deprecated. Use DataFrame.map instead.\n",
      "  all = all.applymap(lambda x: f'{x:.3f}')\n",
      "/var/folders/y6/w43qd_4x787440vysqh0ss280000gn/T/ipykernel_11986/1615406108.py:13: FutureWarning: DataFrame.applymap has been deprecated. Use DataFrame.map instead.\n",
      "  all = all.applymap(lambda x: f'{x:.3f}')\n",
      "/var/folders/y6/w43qd_4x787440vysqh0ss280000gn/T/ipykernel_11986/1615406108.py:13: FutureWarning: DataFrame.applymap has been deprecated. Use DataFrame.map instead.\n",
      "  all = all.applymap(lambda x: f'{x:.3f}')\n"
     ]
    }
   ],
   "source": [
    "for value in ['weighted_accuracy', 'weighted_failed']:\n",
    "    for problem in study_problem:\n",
    "        c = a[a.problem == problem].copy()\n",
    "        d = b[b.problem == problem].copy()\n",
    "        c.model = c.model.apply(lambda x: x.title())\n",
    "        d.model = d.model.apply(lambda x: x.title())\n",
    "        c['difference'] = 'Zeroshot'\n",
    "        c = c.pivot(columns='model', index='difference', values=value)\n",
    "        d = d.pivot(columns='model', index='difference', values=value).sort_index()\n",
    "        d.index = [f'Fewshot ({i})' for i in d.index]\n",
    "        all = pd.concat([c, d]).dropna(axis=1)\n",
    "        # format the values\n",
    "        all = all.applymap(lambda x: f'{x:.3f}')\n",
    "        all.to_csv(f'{value}_{problem}_zero_few_cmp.csv')"
   ]
  },
  {
   "cell_type": "code",
   "execution_count": null,
   "metadata": {},
   "outputs": [],
   "source": []
  }
 ],
 "metadata": {
  "kernelspec": {
   "display_name": "llm_reason",
   "language": "python",
   "name": "python3"
  },
  "language_info": {
   "codemirror_mode": {
    "name": "ipython",
    "version": 3
   },
   "file_extension": ".py",
   "mimetype": "text/x-python",
   "name": "python",
   "nbconvert_exporter": "python",
   "pygments_lexer": "ipython3",
   "version": "3.10.13"
  }
 },
 "nbformat": 4,
 "nbformat_minor": 2
}
