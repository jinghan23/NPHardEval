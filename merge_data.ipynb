{
 "cells": [
  {
   "cell_type": "code",
   "execution_count": 1,
   "metadata": {},
   "outputs": [
    {
     "name": "stdout",
     "output_type": "stream",
     "text": [
      "25\n"
     ]
    }
   ],
   "source": [
    "import os\n",
    "import json\n",
    "\n",
    "# change nam twice\n",
    "problem_name = 'mfp'\n",
    "problem_file = problem_name + '_instances.json'\n",
    "\n",
    "problem_info = {}\n",
    "with open(problem_file) as f:\n",
    "    problem_info = json.loads(f.read())\n",
    "\n",
    "print(len(problem_info))\n",
    "\n",
    "replace_pos = []\n",
    "for info in problem_info:\n",
    "    place = (info['complexity_level'] - 3) * 10 + info['replace_pos']\n",
    "    replace_pos.append(place)\n",
    "\n",
    "\n",
    "RESULT_DIR = f'Data/{problem_name.upper()}'\n",
    "with open(RESULT_DIR + '/' + problem_file) as f:\n",
    "    old_data = json.loads(f.read())"
   ]
  },
  {
   "cell_type": "code",
   "execution_count": 2,
   "metadata": {},
   "outputs": [
    {
     "data": {
      "text/plain": [
       "{'nodes': 5,\n",
       " 'edges': [{'from': 1, 'to': 3, 'capacity': 2},\n",
       "  {'from': 0, 'to': 3, 'capacity': 5},\n",
       "  {'from': 1, 'to': 3, 'capacity': 4},\n",
       "  {'from': 0, 'to': 2, 'capacity': 1},\n",
       "  {'from': 1, 'to': 2, 'capacity': 2},\n",
       "  {'from': 2, 'to': 4, 'capacity': 4},\n",
       "  {'from': 3, 'to': 4, 'capacity': 2}],\n",
       " 'source': 0,\n",
       " 'sink': 4,\n",
       " 'complexity_level': 4,\n",
       " 'replace_pos': 6}"
      ]
     },
     "execution_count": 2,
     "metadata": {},
     "output_type": "execute_result"
    }
   ],
   "source": [
    "problem_info[0]"
   ]
  },
  {
   "cell_type": "code",
   "execution_count": 3,
   "metadata": {},
   "outputs": [
    {
     "data": {
      "text/plain": [
       "16"
      ]
     },
     "execution_count": 3,
     "metadata": {},
     "output_type": "execute_result"
    }
   ],
   "source": [
    "replace_pos[0]"
   ]
  },
  {
   "cell_type": "code",
   "execution_count": 4,
   "metadata": {},
   "outputs": [],
   "source": [
    "for pos, x in zip(replace_pos, problem_info):\n",
    "    x.pop('replace_pos')\n",
    "    old_data[pos] = x"
   ]
  },
  {
   "cell_type": "code",
   "execution_count": 7,
   "metadata": {},
   "outputs": [
    {
     "data": {
      "text/plain": [
       "{'nodes': 5,\n",
       " 'edges': [{'from': 1, 'to': 3, 'capacity': 2},\n",
       "  {'from': 0, 'to': 3, 'capacity': 5},\n",
       "  {'from': 1, 'to': 3, 'capacity': 4},\n",
       "  {'from': 0, 'to': 2, 'capacity': 1},\n",
       "  {'from': 1, 'to': 2, 'capacity': 2},\n",
       "  {'from': 2, 'to': 4, 'capacity': 4},\n",
       "  {'from': 3, 'to': 4, 'capacity': 2}],\n",
       " 'source': 0,\n",
       " 'sink': 4,\n",
       " 'complexity_level': 4}"
      ]
     },
     "execution_count": 7,
     "metadata": {},
     "output_type": "execute_result"
    }
   ],
   "source": [
    "problem_info[0]"
   ]
  },
  {
   "cell_type": "code",
   "execution_count": 6,
   "metadata": {},
   "outputs": [
    {
     "data": {
      "text/plain": [
       "{'nodes': 5,\n",
       " 'edges': [{'from': 1, 'to': 3, 'capacity': 2},\n",
       "  {'from': 0, 'to': 3, 'capacity': 5},\n",
       "  {'from': 1, 'to': 3, 'capacity': 4},\n",
       "  {'from': 0, 'to': 2, 'capacity': 1},\n",
       "  {'from': 1, 'to': 2, 'capacity': 2},\n",
       "  {'from': 2, 'to': 4, 'capacity': 4},\n",
       "  {'from': 3, 'to': 4, 'capacity': 2}],\n",
       " 'source': 0,\n",
       " 'sink': 4,\n",
       " 'complexity_level': 4}"
      ]
     },
     "execution_count": 6,
     "metadata": {},
     "output_type": "execute_result"
    }
   ],
   "source": [
    "old_data[16]"
   ]
  },
  {
   "cell_type": "code",
   "execution_count": 8,
   "metadata": {},
   "outputs": [],
   "source": [
    "with open(RESULT_DIR + '/' + problem_file, 'w') as f:\n",
    "    f.write(json.dumps(old_data))"
   ]
  },
  {
   "cell_type": "code",
   "execution_count": 9,
   "metadata": {},
   "outputs": [
    {
     "data": {
      "text/plain": [
       "{'nodes': 5,\n",
       " 'edges': [{'from': 1, 'to': 3, 'capacity': 2},\n",
       "  {'from': 0, 'to': 3, 'capacity': 5},\n",
       "  {'from': 1, 'to': 3, 'capacity': 4},\n",
       "  {'from': 0, 'to': 2, 'capacity': 1},\n",
       "  {'from': 1, 'to': 2, 'capacity': 2},\n",
       "  {'from': 2, 'to': 4, 'capacity': 4},\n",
       "  {'from': 3, 'to': 4, 'capacity': 2}],\n",
       " 'source': 0,\n",
       " 'sink': 4,\n",
       " 'complexity_level': 4}"
      ]
     },
     "execution_count": 9,
     "metadata": {},
     "output_type": "execute_result"
    }
   ],
   "source": [
    "with open(RESULT_DIR + '/' + problem_file) as f:\n",
    "    old_data = json.loads(f.read())\n",
    "old_data[16]"
   ]
  },
  {
   "cell_type": "code",
   "execution_count": null,
   "metadata": {},
   "outputs": [],
   "source": []
  }
 ],
 "metadata": {
  "kernelspec": {
   "display_name": "llm_reason",
   "language": "python",
   "name": "python3"
  },
  "language_info": {
   "codemirror_mode": {
    "name": "ipython",
    "version": 3
   },
   "file_extension": ".py",
   "mimetype": "text/x-python",
   "name": "python",
   "nbconvert_exporter": "python",
   "pygments_lexer": "ipython3",
   "version": "3.10.13"
  }
 },
 "nbformat": 4,
 "nbformat_minor": 2
}
